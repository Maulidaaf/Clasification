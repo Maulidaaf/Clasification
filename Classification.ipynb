{
 "cells": [
  {
   "cell_type": "code",
   "execution_count": 165,
   "id": "e11bb65e",
   "metadata": {},
   "outputs": [
    {
     "data": {
      "text/html": [
       "<div>\n",
       "<style scoped>\n",
       "    .dataframe tbody tr th:only-of-type {\n",
       "        vertical-align: middle;\n",
       "    }\n",
       "\n",
       "    .dataframe tbody tr th {\n",
       "        vertical-align: top;\n",
       "    }\n",
       "\n",
       "    .dataframe thead th {\n",
       "        text-align: right;\n",
       "    }\n",
       "</style>\n",
       "<table border=\"1\" class=\"dataframe\">\n",
       "  <thead>\n",
       "    <tr style=\"text-align: right;\">\n",
       "      <th></th>\n",
       "      <th>accommodates</th>\n",
       "      <th>bathrooms</th>\n",
       "      <th>bedrooms</th>\n",
       "      <th>calculated_host_listings_count</th>\n",
       "      <th>guests_included</th>\n",
       "      <th>host_listings_count</th>\n",
       "      <th>latitude</th>\n",
       "      <th>longitude</th>\n",
       "      <th>minimum_nights</th>\n",
       "      <th>number_of_reviews</th>\n",
       "      <th>d_centre</th>\n",
       "      <th>instant_bookable_t</th>\n",
       "      <th>room_type_Entire home/apt</th>\n",
       "      <th>room_type_Private room</th>\n",
       "      <th>room_type_Shared room</th>\n",
       "      <th>price_category</th>\n",
       "    </tr>\n",
       "  </thead>\n",
       "  <tbody>\n",
       "    <tr>\n",
       "      <th>0</th>\n",
       "      <td>3</td>\n",
       "      <td>1.0</td>\n",
       "      <td>2</td>\n",
       "      <td>1</td>\n",
       "      <td>2</td>\n",
       "      <td>1</td>\n",
       "      <td>52.369802</td>\n",
       "      <td>4.858930</td>\n",
       "      <td>3</td>\n",
       "      <td>3</td>\n",
       "      <td>2.938979</td>\n",
       "      <td>0</td>\n",
       "      <td>1</td>\n",
       "      <td>0</td>\n",
       "      <td>0</td>\n",
       "      <td>Low</td>\n",
       "    </tr>\n",
       "    <tr>\n",
       "      <th>1</th>\n",
       "      <td>4</td>\n",
       "      <td>1.0</td>\n",
       "      <td>3</td>\n",
       "      <td>1</td>\n",
       "      <td>1</td>\n",
       "      <td>1</td>\n",
       "      <td>52.353641</td>\n",
       "      <td>4.904810</td>\n",
       "      <td>2</td>\n",
       "      <td>27</td>\n",
       "      <td>2.862356</td>\n",
       "      <td>0</td>\n",
       "      <td>1</td>\n",
       "      <td>0</td>\n",
       "      <td>0</td>\n",
       "      <td>Medium</td>\n",
       "    </tr>\n",
       "    <tr>\n",
       "      <th>2</th>\n",
       "      <td>2</td>\n",
       "      <td>1.0</td>\n",
       "      <td>1</td>\n",
       "      <td>2</td>\n",
       "      <td>2</td>\n",
       "      <td>2</td>\n",
       "      <td>52.367143</td>\n",
       "      <td>4.982494</td>\n",
       "      <td>2</td>\n",
       "      <td>13</td>\n",
       "      <td>5.792076</td>\n",
       "      <td>0</td>\n",
       "      <td>0</td>\n",
       "      <td>1</td>\n",
       "      <td>0</td>\n",
       "      <td>Low</td>\n",
       "    </tr>\n",
       "    <tr>\n",
       "      <th>3</th>\n",
       "      <td>3</td>\n",
       "      <td>1.0</td>\n",
       "      <td>1</td>\n",
       "      <td>1</td>\n",
       "      <td>2</td>\n",
       "      <td>1</td>\n",
       "      <td>52.351166</td>\n",
       "      <td>4.894002</td>\n",
       "      <td>3</td>\n",
       "      <td>6</td>\n",
       "      <td>3.135803</td>\n",
       "      <td>1</td>\n",
       "      <td>1</td>\n",
       "      <td>0</td>\n",
       "      <td>0</td>\n",
       "      <td>Low</td>\n",
       "    </tr>\n",
       "    <tr>\n",
       "      <th>4</th>\n",
       "      <td>2</td>\n",
       "      <td>1.0</td>\n",
       "      <td>1</td>\n",
       "      <td>1</td>\n",
       "      <td>1</td>\n",
       "      <td>1</td>\n",
       "      <td>52.354419</td>\n",
       "      <td>4.934173</td>\n",
       "      <td>6</td>\n",
       "      <td>34</td>\n",
       "      <td>3.624058</td>\n",
       "      <td>0</td>\n",
       "      <td>0</td>\n",
       "      <td>1</td>\n",
       "      <td>0</td>\n",
       "      <td>Low</td>\n",
       "    </tr>\n",
       "  </tbody>\n",
       "</table>\n",
       "</div>"
      ],
      "text/plain": [
       "   accommodates  bathrooms  bedrooms  calculated_host_listings_count  \\\n",
       "0             3        1.0         2                               1   \n",
       "1             4        1.0         3                               1   \n",
       "2             2        1.0         1                               2   \n",
       "3             3        1.0         1                               1   \n",
       "4             2        1.0         1                               1   \n",
       "\n",
       "   guests_included  host_listings_count   latitude  longitude  minimum_nights  \\\n",
       "0                2                    1  52.369802   4.858930               3   \n",
       "1                1                    1  52.353641   4.904810               2   \n",
       "2                2                    2  52.367143   4.982494               2   \n",
       "3                2                    1  52.351166   4.894002               3   \n",
       "4                1                    1  52.354419   4.934173               6   \n",
       "\n",
       "   number_of_reviews  d_centre  instant_bookable_t  room_type_Entire home/apt  \\\n",
       "0                  3  2.938979                   0                          1   \n",
       "1                 27  2.862356                   0                          1   \n",
       "2                 13  5.792076                   0                          0   \n",
       "3                  6  3.135803                   1                          1   \n",
       "4                 34  3.624058                   0                          0   \n",
       "\n",
       "   room_type_Private room  room_type_Shared room price_category  \n",
       "0                       0                      0            Low  \n",
       "1                       0                      0         Medium  \n",
       "2                       1                      0            Low  \n",
       "3                       0                      0            Low  \n",
       "4                       1                      0            Low  "
      ]
     },
     "execution_count": 165,
     "metadata": {},
     "output_type": "execute_result"
    }
   ],
   "source": [
    "#Penyimpanan data airbnb_amsterdam kedalam dataframe\n",
    "import pandas as pd\n",
    "\n",
    "dataframe = pd.read_csv ('airbnb_amsterdam.csv')\n",
    "dataframe.head()"
   ]
  },
  {
   "cell_type": "code",
   "execution_count": 166,
   "id": "25baeed2",
   "metadata": {},
   "outputs": [
    {
     "data": {
      "text/html": [
       "<div>\n",
       "<style scoped>\n",
       "    .dataframe tbody tr th:only-of-type {\n",
       "        vertical-align: middle;\n",
       "    }\n",
       "\n",
       "    .dataframe tbody tr th {\n",
       "        vertical-align: top;\n",
       "    }\n",
       "\n",
       "    .dataframe thead th {\n",
       "        text-align: right;\n",
       "    }\n",
       "</style>\n",
       "<table border=\"1\" class=\"dataframe\">\n",
       "  <thead>\n",
       "    <tr style=\"text-align: right;\">\n",
       "      <th></th>\n",
       "      <th>accommodates</th>\n",
       "      <th>bathrooms</th>\n",
       "      <th>bedrooms</th>\n",
       "      <th>guests_included</th>\n",
       "      <th>minimum_nights</th>\n",
       "      <th>d_centre</th>\n",
       "      <th>number_of_reviews</th>\n",
       "      <th>price_category</th>\n",
       "    </tr>\n",
       "  </thead>\n",
       "  <tbody>\n",
       "    <tr>\n",
       "      <th>0</th>\n",
       "      <td>3</td>\n",
       "      <td>1.0</td>\n",
       "      <td>2</td>\n",
       "      <td>2</td>\n",
       "      <td>3</td>\n",
       "      <td>2.938979</td>\n",
       "      <td>3</td>\n",
       "      <td>Low</td>\n",
       "    </tr>\n",
       "    <tr>\n",
       "      <th>1</th>\n",
       "      <td>4</td>\n",
       "      <td>1.0</td>\n",
       "      <td>3</td>\n",
       "      <td>1</td>\n",
       "      <td>2</td>\n",
       "      <td>2.862356</td>\n",
       "      <td>27</td>\n",
       "      <td>Medium</td>\n",
       "    </tr>\n",
       "    <tr>\n",
       "      <th>2</th>\n",
       "      <td>2</td>\n",
       "      <td>1.0</td>\n",
       "      <td>1</td>\n",
       "      <td>2</td>\n",
       "      <td>2</td>\n",
       "      <td>5.792076</td>\n",
       "      <td>13</td>\n",
       "      <td>Low</td>\n",
       "    </tr>\n",
       "    <tr>\n",
       "      <th>3</th>\n",
       "      <td>3</td>\n",
       "      <td>1.0</td>\n",
       "      <td>1</td>\n",
       "      <td>2</td>\n",
       "      <td>3</td>\n",
       "      <td>3.135803</td>\n",
       "      <td>6</td>\n",
       "      <td>Low</td>\n",
       "    </tr>\n",
       "    <tr>\n",
       "      <th>4</th>\n",
       "      <td>2</td>\n",
       "      <td>1.0</td>\n",
       "      <td>1</td>\n",
       "      <td>1</td>\n",
       "      <td>6</td>\n",
       "      <td>3.624058</td>\n",
       "      <td>34</td>\n",
       "      <td>Low</td>\n",
       "    </tr>\n",
       "  </tbody>\n",
       "</table>\n",
       "</div>"
      ],
      "text/plain": [
       "   accommodates  bathrooms  bedrooms  guests_included  minimum_nights  \\\n",
       "0             3        1.0         2                2               3   \n",
       "1             4        1.0         3                1               2   \n",
       "2             2        1.0         1                2               2   \n",
       "3             3        1.0         1                2               3   \n",
       "4             2        1.0         1                1               6   \n",
       "\n",
       "   d_centre  number_of_reviews price_category  \n",
       "0  2.938979                  3            Low  \n",
       "1  2.862356                 27         Medium  \n",
       "2  5.792076                 13            Low  \n",
       "3  3.135803                  6            Low  \n",
       "4  3.624058                 34            Low  "
      ]
     },
     "execution_count": 166,
     "metadata": {},
     "output_type": "execute_result"
    }
   ],
   "source": [
    "#feature selection\n",
    "feature = dataframe[['accommodates', 'bathrooms', 'bedrooms', 'guests_included', \n",
    "                     'minimum_nights', 'd_centre', 'number_of_reviews','price_category']]\n",
    "feature.head()"
   ]
  },
  {
   "cell_type": "code",
   "execution_count": null,
   "id": "4572cb55",
   "metadata": {},
   "outputs": [],
   "source": []
  },
  {
   "cell_type": "code",
   "execution_count": 167,
   "id": "35d6b9aa",
   "metadata": {},
   "outputs": [],
   "source": [
    "#memisahkan features dan class(kategori)\n",
    "from sklearn.model_selection import train_test_split\n",
    "x = feature.iloc[:,:7]\n",
    "y = feature.iloc[:,7]"
   ]
  },
  {
   "cell_type": "code",
   "execution_count": null,
   "id": "1ad56fdd",
   "metadata": {},
   "outputs": [],
   "source": []
  },
  {
   "cell_type": "code",
   "execution_count": 168,
   "id": "a3d91ac2",
   "metadata": {},
   "outputs": [],
   "source": [
    "#Membagi data menjadi data training dan data testing\n",
    "x_train, x_test, y_train, y_test = train_test_split(x, y, test_size=0.2, random_state=0)"
   ]
  },
  {
   "cell_type": "code",
   "execution_count": null,
   "id": "e885e066",
   "metadata": {},
   "outputs": [],
   "source": []
  },
  {
   "cell_type": "code",
   "execution_count": 169,
   "id": "7bb65681",
   "metadata": {},
   "outputs": [],
   "source": [
    "#Gaussian naive bayes\n",
    "from sklearn.naive_bayes import GaussianNB\n",
    "gnb = GaussianNB()\n",
    "gnb = gnb.fit(x_train, y_train)"
   ]
  },
  {
   "cell_type": "code",
   "execution_count": 171,
   "id": "4ea20726",
   "metadata": {},
   "outputs": [
    {
     "name": "stdout",
     "output_type": "stream",
     "text": [
      "['Medium' 'Low' 'Mid-High' 'Low' 'Mid-High' 'Mid-High' 'Medium' 'Low'\n",
      " 'Mid-High' 'Highest' 'Mid-High' 'Low' 'Low' 'Medium' 'Low' 'Highest'\n",
      " 'Mid-High' 'Low' 'Low' 'Low' 'Medium' 'Low' 'Mid-High' 'Medium' 'Low'\n",
      " 'Low' 'Mid-High' 'Low' 'Medium' 'Mid-High' 'Mid-High' 'Low' 'Low'\n",
      " 'Medium' 'Low' 'Mid-High' 'Mid-High' 'Low' 'Low' 'Mid-High' 'Mid-High'\n",
      " 'Mid-High' 'Low' 'Low' 'Low' 'Low' 'Mid-High' 'Medium' 'Low' 'Mid-High'\n",
      " 'Medium' 'Mid-High' 'Medium' 'Low' 'Mid-High' 'Medium' 'Low' 'Mid-High'\n",
      " 'Highest' 'Mid-High' 'Mid-High' 'Low' 'Low' 'Mid-High' 'Medium' 'Low'\n",
      " 'Low' 'Low' 'Mid-High' 'Medium' 'Medium' 'Low' 'Medium' 'Mid-High'\n",
      " 'Mid-High' 'Low' 'Low' 'Medium' 'Mid-High' 'Mid-High' 'Highest' 'Low'\n",
      " 'Low' 'Medium' 'Low' 'Highest' 'Mid-High' 'Medium' 'Mid-High' 'Mid-High'\n",
      " 'Mid-High' 'Mid-High' 'Low' 'Medium' 'Low' 'Mid-High' 'Mid-High' 'Medium'\n",
      " 'Mid-High' 'Medium' 'Low' 'Mid-High' 'Mid-High' 'Mid-High' 'Medium'\n",
      " 'Highest' 'Mid-High' 'Medium' 'Medium' 'Low' 'Highest' 'Medium'\n",
      " 'Mid-High' 'Medium' 'Low' 'Medium' 'Mid-High' 'Low' 'Low' 'Mid-High'\n",
      " 'Medium' 'Low' 'Medium' 'Mid-High' 'Medium' 'Low' 'Mid-High' 'Medium'\n",
      " 'Low' 'Low' 'Low' 'Medium' 'Mid-High' 'Low' 'Low' 'Low' 'Highest'\n",
      " 'Medium' 'Medium' 'Mid-High' 'Medium' 'Medium' 'Highest' 'Mid-High' 'Low'\n",
      " 'Low' 'Low' 'Highest' 'Low' 'Low' 'Mid-High' 'Mid-High' 'Low' 'Medium'\n",
      " 'Mid-High' 'Low' 'Low' 'Mid-High' 'Low' 'Mid-High']\n",
      "492     Highest\n",
      "175         Low\n",
      "529      Medium\n",
      "618      Medium\n",
      "558      Medium\n",
      "         ...   \n",
      "643      Medium\n",
      "235         Low\n",
      "419    Mid-High\n",
      "76          Low\n",
      "64          Low\n",
      "Name: price_category, Length: 160, dtype: object\n"
     ]
    }
   ],
   "source": [
    "#data uji dan data testing\n",
    "print(gnb.predict(x_test))\n",
    "print(y_test)"
   ]
  },
  {
   "cell_type": "code",
   "execution_count": 172,
   "id": "36faa9db",
   "metadata": {},
   "outputs": [
    {
     "data": {
      "text/plain": [
       "0.425"
      ]
     },
     "execution_count": 172,
     "metadata": {},
     "output_type": "execute_result"
    }
   ],
   "source": [
    "#Menentukan nilai akurasi\n",
    "from sklearn.metrics import accuracy_score\n",
    "y_pred = gnb.predict(x_test)\n",
    "accuracy_score(y_test,y_pred)"
   ]
  },
  {
   "cell_type": "code",
   "execution_count": 173,
   "id": "4aff2aae",
   "metadata": {},
   "outputs": [
    {
     "data": {
      "text/plain": [
       "array([[ 6,  0,  5, 18],\n",
       "       [ 0, 34, 14,  1],\n",
       "       [ 0, 22,  6, 12],\n",
       "       [ 4,  4, 12, 22]], dtype=int64)"
      ]
     },
     "execution_count": 173,
     "metadata": {},
     "output_type": "execute_result"
    }
   ],
   "source": [
    "#confusion matrix\n",
    "from sklearn.metrics import confusion_matrix\n",
    "confusion_matrix(y_test, y_pred)"
   ]
  },
  {
   "cell_type": "code",
   "execution_count": 174,
   "id": "945bb6eb",
   "metadata": {},
   "outputs": [
    {
     "name": "stdout",
     "output_type": "stream",
     "text": [
      "              precision    recall  f1-score   support\n",
      "\n",
      "     Highest       0.60      0.21      0.31        29\n",
      "         Low       0.57      0.69      0.62        49\n",
      "      Medium       0.16      0.15      0.16        40\n",
      "    Mid-High       0.42      0.52      0.46        42\n",
      "\n",
      "    accuracy                           0.42       160\n",
      "   macro avg       0.44      0.39      0.39       160\n",
      "weighted avg       0.43      0.42      0.41       160\n",
      "\n"
     ]
    }
   ],
   "source": [
    "from sklearn.metrics import classification_report\n",
    "print(classification_report(y_test,y_pred))"
   ]
  },
  {
   "cell_type": "code",
   "execution_count": 175,
   "id": "9f401050",
   "metadata": {},
   "outputs": [
    {
     "name": "stdout",
     "output_type": "stream",
     "text": [
      "['Low']\n"
     ]
    }
   ],
   "source": [
    "y_pred = gnb.predict([[2,1,1,1,2,3.135971,2]])\n",
    "print(y_pred)"
   ]
  },
  {
   "cell_type": "code",
   "execution_count": 176,
   "id": "b3356c98",
   "metadata": {},
   "outputs": [
    {
     "name": "stdout",
     "output_type": "stream",
     "text": [
      "['Medium']\n"
     ]
    }
   ],
   "source": [
    "y_pred = gnb.predict([[4,1,2,2,2,2.988217,5]])\n",
    "print(y_pred)"
   ]
  },
  {
   "cell_type": "code",
   "execution_count": null,
   "id": "0abac69e",
   "metadata": {},
   "outputs": [],
   "source": []
  }
 ],
 "metadata": {
  "kernelspec": {
   "display_name": "Python 3 (ipykernel)",
   "language": "python",
   "name": "python3"
  },
  "language_info": {
   "codemirror_mode": {
    "name": "ipython",
    "version": 3
   },
   "file_extension": ".py",
   "mimetype": "text/x-python",
   "name": "python",
   "nbconvert_exporter": "python",
   "pygments_lexer": "ipython3",
   "version": "3.9.7"
  }
 },
 "nbformat": 4,
 "nbformat_minor": 5
}
